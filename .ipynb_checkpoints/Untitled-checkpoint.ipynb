{
 "cells": [
  {
   "cell_type": "code",
   "execution_count": 21,
   "metadata": {},
   "outputs": [
    {
     "ename": "SyntaxError",
     "evalue": "Missing parentheses in call to 'print'. Did you mean print(i.text)? (<ipython-input-21-8ccc2406366c>, line 38)",
     "output_type": "error",
     "traceback": [
      "\u001b[0;36m  File \u001b[0;32m\"<ipython-input-21-8ccc2406366c>\"\u001b[0;36m, line \u001b[0;32m38\u001b[0m\n\u001b[0;31m    print i.text\u001b[0m\n\u001b[0m          ^\u001b[0m\n\u001b[0;31mSyntaxError\u001b[0m\u001b[0;31m:\u001b[0m Missing parentheses in call to 'print'. Did you mean print(i.text)?\n"
     ]
    }
   ],
   "source": [
    "import requests\n",
    "import tweepy\n",
    "import pandas\n",
    "import json\n",
    "ApiKey = 'tMyPK26T4fUaBpPqYvvRMLVxR'\n",
    "ApiSecretKey = 'e7hxgFvgDEw5I9e4bSLsMrE2ilTQ4CN0LwPjAG2YOWMlz2LY3M'\n",
    "access_token = '879601750830972928-x1sNiUtHCjAamveIhXj0GpG7h9ujV8T'\n",
    "access_token_secret = '3Wn7SGynXEPNSd4w8xHmrZCehmbRvSQbLXZRxi98imi0K'\n",
    "BearerToken = 'AAAAAAAAAAAAAAAAAAAAAGiKMwEAAAAAWWaRZI95ykmtiOmnoJDOp5eQLVs%3DUPfxzeXvED2ONvwqP4KB8zOeNvP1qZo6ltUlmx5aIysqFgigi3'\n",
    "\n",
    "\n",
    "auth = tweepy.OAuthHandler(ApiKey, ApiSecretKey)\n",
    "auth.set_access_token(access_token, access_token_secret)\n",
    "\n",
    "api = tweepy.API(auth)\n",
    "\n",
    "# retrieve data from twitter\n",
    "tweetDictionary = {\n",
    "    'Date': '', \n",
    "    'tweetText': '',\n",
    "                  }\n",
    "\n",
    "def twitterSearch(topic, count):\n",
    "    tweets = api.search(topic, lang='en', count=count)\n",
    "    jsonTweets = json.loads(tweets)\n",
    "    for tweet in tweets:\n",
    "        print(jsonTweets)\n",
    "\n",
    "\n",
    "tweetObject = api.search('bitcoin', lang = 'en', count = 3)\n",
    "tweets = tweetObject[0]\n",
    "json_str = json.dumps(tweets._json)\n",
    "# for i in json_str:\n",
    "#     tweetDictionary.update({'Date': i.created_at, 'tweetText': i.text})\n",
    "print(tweetDictionary)\n",
    "print(json_str)\n",
    "for i in json_str:\n",
    "    print(i.text)\n"
   ]
  },
  {
   "cell_type": "code",
   "execution_count": null,
   "metadata": {},
   "outputs": [],
   "source": []
  }
 ],
 "metadata": {
  "kernelspec": {
   "display_name": "Python 3",
   "language": "python",
   "name": "python3"
  },
  "language_info": {
   "codemirror_mode": {
    "name": "ipython",
    "version": 3
   },
   "file_extension": ".py",
   "mimetype": "text/x-python",
   "name": "python",
   "nbconvert_exporter": "python",
   "pygments_lexer": "ipython3",
   "version": "3.7.6"
  }
 },
 "nbformat": 4,
 "nbformat_minor": 4
}
